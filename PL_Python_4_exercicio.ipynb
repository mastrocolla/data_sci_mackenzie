{
  "nbformat": 4,
  "nbformat_minor": 0,
  "metadata": {
    "colab": {
      "name": "PL_Python_4_exercicio.ipynb",
      "provenance": [],
      "collapsed_sections": []
    },
    "kernelspec": {
      "name": "python3",
      "display_name": "Python 3"
    },
    "language_info": {
      "name": "python"
    }
  },
  "cells": [
    {
      "cell_type": "markdown",
      "metadata": {
        "id": "iubZQEb71EHd"
      },
      "source": [
        "<head>\n",
        "  <meta name=\"author\" content=\"Rogério de Oliveira\">\n",
        "  <meta institution=\"author\" content=\"Universidade Presbiteriana Mackenzie\">\n",
        "</head>\n",
        "\n",
        "<img src=\"http://meusite.mackenzie.br/rogerio/mackenzie_logo/UPM.2_horizontal_vermelho.jpg\" width=300, align=\"right\"> \n",
        "\n",
        "<h1 align=left><font size = 8, style=\"color:rgb(200,0,0)\"><b>Ciência de Dados </b></font></h1> \n",
        "<h1 align=left><font size = 5, style=\"color:rgb(0,0,0)\"><b>Paradigmas de Linguagens de\n",
        "Programação para Ciência de Dados</b></font></h1> \n",
        "\n",
        "# 4 Estudos de Caso de Análise de Dados I\n",
        "Professores: *Diego Nogare* & *Rogério de Oliveira* \n",
        "\n",
        "<br>\n",
        "<br>\n",
        "\n",
        "---\n"
      ]
    },
    {
      "cell_type": "markdown",
      "metadata": {
        "id": "42yF1G-yHu98"
      },
      "source": [
        "# Exercícios"
      ]
    },
    {
      "cell_type": "code",
      "metadata": {
        "id": "-sQD_AuCkWp8"
      },
      "source": [
        "import numpy as np\n",
        "import pandas as pd\n",
        "import matplotlib.pyplot as plt\n",
        "%matplotlib inline\n",
        "import seaborn as sns"
      ],
      "execution_count": 88,
      "outputs": []
    },
    {
      "cell_type": "markdown",
      "metadata": {
        "id": "irUloP4YHH8n"
      },
      "source": [
        "# WHO World Health Organization\n",
        "\n",
        "Os dados abaixo foram obtidos diretamente da Organização Mundial de Saúde. Empregue os dados de 2015 já selecionados abaixo para responder as perguntas."
      ]
    },
    {
      "cell_type": "code",
      "metadata": {
        "colab": {
          "base_uri": "https://localhost:8080/",
          "height": 183
        },
        "id": "1IgZTqak5ajs",
        "outputId": "fa02a67f-c26d-4826-e960-9caee68949eb"
      },
      "source": [
        "WHO = pd.read_csv('https://raw.githubusercontent.com/Rogerio-mack/Visualizacao-de-Dados-em-Python/main/data/Life_Expectancy_Data.csv')\n",
        "WHO.rename(columns={' BMI ':'BMI', 'Life expectancy ':'Life_expectancy'}, inplace=True)\n",
        "WHO = WHO[ WHO.Year == 2015 ]\n",
        "print(WHO.head())\n",
        "display(WHO.shape)"
      ],
      "execution_count": 89,
      "outputs": [
        {
          "output_type": "stream",
          "name": "stdout",
          "text": [
            "                Country  Year  ... Income composition of resources  Schooling\n",
            "0           Afghanistan  2015  ...                           0.479       10.1\n",
            "16              Albania  2015  ...                           0.762       14.2\n",
            "32              Algeria  2015  ...                           0.743       14.4\n",
            "48               Angola  2015  ...                           0.531       11.4\n",
            "64  Antigua and Barbuda  2015  ...                           0.784       13.9\n",
            "\n",
            "[5 rows x 22 columns]\n"
          ]
        },
        {
          "output_type": "display_data",
          "data": {
            "text/plain": [
              "(183, 22)"
            ]
          },
          "metadata": {}
        }
      ]
    },
    {
      "cell_type": "markdown",
      "metadata": {
        "id": "_zrNu_lEHhsP"
      },
      "source": [
        "# Qualidade dos Dados\n",
        "\n",
        "Verifique a Qualidade dos Dados. Quantos atributos apresentam dados ausentes a qual atributo tem o maior percentual de dados ausentes?"
      ]
    },
    {
      "cell_type": "code",
      "metadata": {
        "id": "fRHY5L195lOj",
        "colab": {
          "base_uri": "https://localhost:8080/",
          "height": 0
        },
        "outputId": "b6958a41-dc1b-48f2-d871-5e5380e44558"
      },
      "source": [
        "# Seu código\n",
        "# Atributos com dados ausentes\n",
        "dados_ausentes = WHO.isnull().sum()\n",
        "print(dados_ausentes)"
      ],
      "execution_count": 90,
      "outputs": [
        {
          "output_type": "stream",
          "name": "stdout",
          "text": [
            "Country                              0\n",
            "Year                                 0\n",
            "Status                               0\n",
            "Life_expectancy                      0\n",
            "Adult Mortality                      0\n",
            "infant deaths                        0\n",
            "Alcohol                            177\n",
            "percentage expenditure               0\n",
            "Hepatitis B                          9\n",
            "Measles                              0\n",
            "BMI                                  2\n",
            "under-five deaths                    0\n",
            "Polio                                0\n",
            "Total expenditure                  181\n",
            "Diphtheria                           0\n",
            " HIV/AIDS                            0\n",
            "GDP                                 29\n",
            "Population                          41\n",
            " thinness  1-19 years                2\n",
            " thinness 5-9 years                  2\n",
            "Income composition of resources     10\n",
            "Schooling                           10\n",
            "dtype: int64\n"
          ]
        }
      ]
    },
    {
      "cell_type": "code",
      "metadata": {
        "id": "U7wtb3mxaybw"
      },
      "source": [
        "# Percentual de dados ausentes\n",
        "dados_ausentes_percentual = (dados_ausentes / len(WHO))*100"
      ],
      "execution_count": 91,
      "outputs": []
    },
    {
      "cell_type": "code",
      "metadata": {
        "id": "wE245z8La1zX",
        "colab": {
          "base_uri": "https://localhost:8080/",
          "height": 0
        },
        "outputId": "2ccbca9d-788e-4b48-8cee-f25f2982eaf2"
      },
      "source": [
        "# Atributo com o maior pecentual de dados ausentes\n",
        "print(dados_ausentes_percentual.nlargest(1))"
      ],
      "execution_count": 92,
      "outputs": [
        {
          "output_type": "stream",
          "name": "stdout",
          "text": [
            "Total expenditure    98.907104\n",
            "dtype: float64\n"
          ]
        }
      ]
    },
    {
      "cell_type": "markdown",
      "metadata": {
        "id": "QjWj6DV8SIu-"
      },
      "source": [
        "O atributo com maior percentual de dados ausentes é o 'Total expenditure' com 98,9% de dados ausentes."
      ]
    },
    {
      "cell_type": "markdown",
      "metadata": {
        "id": "vkBJZTRDJah_"
      },
      "source": [
        "# Qualidade dos Dados\n",
        "\n",
        "Alguns países estão classificados como países *em desenvolvimento* e parecem destoar do nosso entendimento geral de países *desenvolvidos $\\times$ em desenvolvimento*. Quais dois países parecem se enquadrar neste caso?\n",
        "\n",
        "(Dica: verifique os países em desenvolvimento que apresentam um GDP que discrepante dos demais)\n",
        "<br>"
      ]
    },
    {
      "cell_type": "code",
      "metadata": {
        "id": "pgulq3tJMJ_R"
      },
      "source": [
        "# Seu código\n",
        "desenvolvidos = WHO[WHO['Status'] == 'Developed']\n",
        "em_desenvolvimento = WHO[WHO['Status'] == 'Developing']"
      ],
      "execution_count": 93,
      "outputs": []
    },
    {
      "cell_type": "code",
      "metadata": {
        "colab": {
          "base_uri": "https://localhost:8080/",
          "height": 35
        },
        "id": "zTAXWrMuB0hE",
        "outputId": "227ce482-a707-42b8-8bfa-b380f27be83b"
      },
      "source": [
        "# Média da GDP dos países desenvolvidos\n",
        "desenv_gdp_media = desenvolvidos.GDP.mean()\n",
        "display(desenv_gdp_media)"
      ],
      "execution_count": 94,
      "outputs": [
        {
          "output_type": "display_data",
          "data": {
            "text/plain": [
              "16434.95783475"
            ]
          },
          "metadata": {}
        }
      ]
    },
    {
      "cell_type": "code",
      "metadata": {
        "id": "SxZScT4ocmcT",
        "colab": {
          "base_uri": "https://localhost:8080/",
          "height": 112
        },
        "outputId": "2f13de8d-414d-41b0-c83d-8aa5cb6609d9"
      },
      "source": [
        "# Países em desenvolvimento que apresentam GDP discrepante\n",
        "em_desenv_acima_media = em_desenvolvimento[['Country', 'Status', 'GDP']]\n",
        "em_desenv_acima_media = em_desenv_acima_media[em_desenv_acima_media['GDP'] > \n",
        "                                              desenv_gdp_media]\n",
        "display(em_desenv_acima_media.nlargest(2,'GDP'))"
      ],
      "execution_count": 101,
      "outputs": [
        {
          "output_type": "display_data",
          "data": {
            "text/html": [
              "<div>\n",
              "<style scoped>\n",
              "    .dataframe tbody tr th:only-of-type {\n",
              "        vertical-align: middle;\n",
              "    }\n",
              "\n",
              "    .dataframe tbody tr th {\n",
              "        vertical-align: top;\n",
              "    }\n",
              "\n",
              "    .dataframe thead th {\n",
              "        text-align: right;\n",
              "    }\n",
              "</style>\n",
              "<table border=\"1\" class=\"dataframe\">\n",
              "  <thead>\n",
              "    <tr style=\"text-align: right;\">\n",
              "      <th></th>\n",
              "      <th>Country</th>\n",
              "      <th>Status</th>\n",
              "      <th>GDP</th>\n",
              "    </tr>\n",
              "  </thead>\n",
              "  <tbody>\n",
              "    <tr>\n",
              "      <th>2071</th>\n",
              "      <td>Qatar</td>\n",
              "      <td>Developing</td>\n",
              "      <td>66346.52267</td>\n",
              "    </tr>\n",
              "    <tr>\n",
              "      <th>496</th>\n",
              "      <td>Canada</td>\n",
              "      <td>Developing</td>\n",
              "      <td>43315.74400</td>\n",
              "    </tr>\n",
              "  </tbody>\n",
              "</table>\n",
              "</div>"
            ],
            "text/plain": [
              "     Country      Status          GDP\n",
              "2071   Qatar  Developing  66346.52267\n",
              "496   Canada  Developing  43315.74400"
            ]
          },
          "metadata": {}
        }
      ]
    },
    {
      "cell_type": "markdown",
      "metadata": {
        "id": "y2RNA6lAefPu"
      },
      "source": [
        "Os dois países que parecem desenquadrar do entendimento de 'em desenvolvimento' são Qatar e Canadá. Ambos apresentam GDP acima da média dos países desenvolvidos (16434.95), lembrando que estes dois não são os únicos acima dessa média como podemos observar abaixo."
      ]
    },
    {
      "cell_type": "code",
      "metadata": {
        "colab": {
          "base_uri": "https://localhost:8080/",
          "height": 0
        },
        "id": "jSSTVXlACkQG",
        "outputId": "d8197105-1f30-4597-943a-affedb3945c4"
      },
      "source": [
        "print(em_desenv_acima_media)"
      ],
      "execution_count": 104,
      "outputs": [
        {
          "output_type": "stream",
          "name": "stdout",
          "text": [
            "                  Country      Status          GDP\n",
            "176               Bahrain  Developing  22688.87824\n",
            "496                Canada  Developing  43315.74400\n",
            "930                France  Developing  36526.77110\n",
            "1266               Israel  Developing  35729.37253\n",
            "1394               Kuwait  Developing  28975.41800\n",
            "1926                 Oman  Developing  16627.36433\n",
            "2071                Qatar  Developing  66346.52267\n",
            "2649  Trinidad and Tobago  Developing  17321.83373\n"
          ]
        }
      ]
    },
    {
      "cell_type": "markdown",
      "metadata": {
        "id": "OfEScFxBKY3e"
      },
      "source": [
        "# Distribuição dos Dados\n",
        "\n",
        "Analise a Distribuição da Expectativa de Vida entre os países Desenvolvidos e em Desenvolvimento. O que você consegue afirmar sobre essas distribuições? "
      ]
    },
    {
      "cell_type": "code",
      "metadata": {
        "id": "FjY7MDViMLdc",
        "colab": {
          "base_uri": "https://localhost:8080/",
          "height": 404
        },
        "outputId": "2a2e0d17-5dc2-4d2e-ae66-874b0188a14a"
      },
      "source": [
        "# Seu código\n",
        "plt.figure(figsize=(6,6))\n",
        "sns.boxplot(data = WHO, y = 'Life_expectancy', x = 'Status', hue = 'Status', )\n",
        "plt.title(\"Expectativa de vida dos países desenvolvidos e em desenvolvimento\")\n",
        "plt.ylabel(\"Idade da população\")\n",
        "plt.xlabel(\"Nivel de desenvolvimento\")\n",
        "plt.legend()\n",
        "plt.show()"
      ],
      "execution_count": 97,
      "outputs": [
        {
          "output_type": "display_data",
          "data": {
            "image/png": "[encoded data removed]",
            "text/plain": [
              "<Figure size 432x432 with 1 Axes>"
            ]
          },
          "metadata": {
            "needs_background": "light"
          }
        }
      ]
    },
    {
      "cell_type": "markdown",
      "metadata": {
        "id": "gHTEjEvIhhOP"
      },
      "source": [
        "Através do gráfico boxplot acima, é possível observar que a expectativa de vida dos países desenvolvidos é maior que a dos em desenvolvimento. Mais da metade da população dos países desenvolvidos tem expectativa de vida superior a 83 anos enquanto que nos países em desenvolvimento a expectativa cai para 72 anos.<br>\n",
        "É possível observar também que a menor expectativa de vida dos países desenvolvidos é de aproximadamente 74 anos contra aproximadamente 51 para os países em desenvolvimento."
      ]
    },
    {
      "cell_type": "markdown",
      "metadata": {
        "id": "u0rWQ7awKt5V"
      },
      "source": [
        "# Relações\n",
        "\n",
        "Quais índices aparecem como mais correlacionados a Expectativa de Vida dos países em Desenvolvimento?  "
      ]
    },
    {
      "cell_type": "code",
      "metadata": {
        "id": "RWxUK-s3MMiT",
        "colab": {
          "base_uri": "https://localhost:8080/",
          "height": 400
        },
        "outputId": "5558133e-8f86-474c-f765-aa4adb47109e"
      },
      "source": [
        "# Seu código\n",
        "# Limpando as colunas com maior percentual de dados faltantes\n",
        "em_desenvolvimento_sem_nan = em_desenvolvimento.drop(labels = ['Total expenditure', 'Alcohol'] , axis = 1)\n",
        "\n",
        "# 5 índices mais correlacionados com a Expectativa de vida dos países em desenvolvimento\n",
        "em_desenvolvimento_sem_nan.corr().nsmallest(5, 'Life_expectancy')\n"
      ],
      "execution_count": 103,
      "outputs": [
        {
          "output_type": "execute_result",
          "data": {
            "text/html": [
              "<div>\n",
              "<style scoped>\n",
              "    .dataframe tbody tr th:only-of-type {\n",
              "        vertical-align: middle;\n",
              "    }\n",
              "\n",
              "    .dataframe tbody tr th {\n",
              "        vertical-align: top;\n",
              "    }\n",
              "\n",
              "    .dataframe thead th {\n",
              "        text-align: right;\n",
              "    }\n",
              "</style>\n",
              "<table border=\"1\" class=\"dataframe\">\n",
              "  <thead>\n",
              "    <tr style=\"text-align: right;\">\n",
              "      <th></th>\n",
              "      <th>Year</th>\n",
              "      <th>Life_expectancy</th>\n",
              "      <th>Adult Mortality</th>\n",
              "      <th>infant deaths</th>\n",
              "      <th>percentage expenditure</th>\n",
              "      <th>Hepatitis B</th>\n",
              "      <th>Measles</th>\n",
              "      <th>BMI</th>\n",
              "      <th>under-five deaths</th>\n",
              "      <th>Polio</th>\n",
              "      <th>Diphtheria</th>\n",
              "      <th>HIV/AIDS</th>\n",
              "      <th>GDP</th>\n",
              "      <th>Population</th>\n",
              "      <th>thinness  1-19 years</th>\n",
              "      <th>thinness 5-9 years</th>\n",
              "      <th>Income composition of resources</th>\n",
              "      <th>Schooling</th>\n",
              "    </tr>\n",
              "  </thead>\n",
              "  <tbody>\n",
              "    <tr>\n",
              "      <th>Adult Mortality</th>\n",
              "      <td>NaN</td>\n",
              "      <td>-0.742151</td>\n",
              "      <td>1.000000</td>\n",
              "      <td>0.157308</td>\n",
              "      <td>-0.062994</td>\n",
              "      <td>-0.203375</td>\n",
              "      <td>0.023442</td>\n",
              "      <td>-0.321384</td>\n",
              "      <td>0.181675</td>\n",
              "      <td>-0.321929</td>\n",
              "      <td>-0.268184</td>\n",
              "      <td>0.611221</td>\n",
              "      <td>-0.294645</td>\n",
              "      <td>0.054482</td>\n",
              "      <td>0.182728</td>\n",
              "      <td>0.186516</td>\n",
              "      <td>-0.593227</td>\n",
              "      <td>-0.467203</td>\n",
              "    </tr>\n",
              "    <tr>\n",
              "      <th>HIV/AIDS</th>\n",
              "      <td>NaN</td>\n",
              "      <td>-0.618896</td>\n",
              "      <td>0.611221</td>\n",
              "      <td>0.073787</td>\n",
              "      <td>-0.044982</td>\n",
              "      <td>-0.386339</td>\n",
              "      <td>-0.043191</td>\n",
              "      <td>-0.272889</td>\n",
              "      <td>0.100476</td>\n",
              "      <td>-0.376749</td>\n",
              "      <td>-0.417233</td>\n",
              "      <td>1.000000</td>\n",
              "      <td>-0.179452</td>\n",
              "      <td>0.025707</td>\n",
              "      <td>0.124926</td>\n",
              "      <td>0.106917</td>\n",
              "      <td>-0.464850</td>\n",
              "      <td>-0.370858</td>\n",
              "    </tr>\n",
              "    <tr>\n",
              "      <th>thinness  1-19 years</th>\n",
              "      <td>NaN</td>\n",
              "      <td>-0.357243</td>\n",
              "      <td>0.182728</td>\n",
              "      <td>0.527482</td>\n",
              "      <td>-0.032946</td>\n",
              "      <td>-0.012641</td>\n",
              "      <td>0.339449</td>\n",
              "      <td>-0.434003</td>\n",
              "      <td>0.516928</td>\n",
              "      <td>-0.122649</td>\n",
              "      <td>-0.035203</td>\n",
              "      <td>0.124926</td>\n",
              "      <td>-0.174327</td>\n",
              "      <td>0.009252</td>\n",
              "      <td>1.000000</td>\n",
              "      <td>0.968766</td>\n",
              "      <td>-0.397311</td>\n",
              "      <td>-0.404424</td>\n",
              "    </tr>\n",
              "    <tr>\n",
              "      <th>thinness 5-9 years</th>\n",
              "      <td>NaN</td>\n",
              "      <td>-0.354700</td>\n",
              "      <td>0.186516</td>\n",
              "      <td>0.528042</td>\n",
              "      <td>-0.031514</td>\n",
              "      <td>-0.058313</td>\n",
              "      <td>0.334329</td>\n",
              "      <td>-0.453891</td>\n",
              "      <td>0.516203</td>\n",
              "      <td>-0.124133</td>\n",
              "      <td>-0.082006</td>\n",
              "      <td>0.106917</td>\n",
              "      <td>-0.186879</td>\n",
              "      <td>-0.000840</td>\n",
              "      <td>0.968766</td>\n",
              "      <td>1.000000</td>\n",
              "      <td>-0.392325</td>\n",
              "      <td>-0.396900</td>\n",
              "    </tr>\n",
              "    <tr>\n",
              "      <th>under-five deaths</th>\n",
              "      <td>NaN</td>\n",
              "      <td>-0.246718</td>\n",
              "      <td>0.181675</td>\n",
              "      <td>0.994112</td>\n",
              "      <td>-0.019978</td>\n",
              "      <td>-0.095642</td>\n",
              "      <td>0.763575</td>\n",
              "      <td>-0.226352</td>\n",
              "      <td>1.000000</td>\n",
              "      <td>-0.122485</td>\n",
              "      <td>-0.113145</td>\n",
              "      <td>0.100476</td>\n",
              "      <td>-0.114254</td>\n",
              "      <td>0.325293</td>\n",
              "      <td>0.516928</td>\n",
              "      <td>0.516203</td>\n",
              "      <td>-0.198389</td>\n",
              "      <td>-0.201748</td>\n",
              "    </tr>\n",
              "  </tbody>\n",
              "</table>\n",
              "</div>"
            ],
            "text/plain": [
              "                       Year  ...  Schooling\n",
              "Adult Mortality         NaN  ...  -0.467203\n",
              " HIV/AIDS               NaN  ...  -0.370858\n",
              " thinness  1-19 years   NaN  ...  -0.404424\n",
              " thinness 5-9 years     NaN  ...  -0.396900\n",
              "under-five deaths       NaN  ...  -0.201748\n",
              "\n",
              "[5 rows x 18 columns]"
            ]
          },
          "metadata": {},
          "execution_count": 103
        }
      ]
    },
    {
      "cell_type": "markdown",
      "metadata": {
        "id": "mMR5rQLSuIIr"
      },
      "source": [
        "Os índices que mais se correlacionam com a expectativa de vida nos países em desenvolvimento são:\n",
        "mortalidade de adultos, HIV/AIDS, magreza/fome nas idades de 1 a 19 anos e de 5 a 9 anos e a mortalidade de crianças com menos de 5 anos."
      ]
    },
    {
      "cell_type": "markdown",
      "metadata": {
        "id": "1WkN-T57LUjd"
      },
      "source": [
        "# Ranking\n",
        "\n",
        "Qual a posição do Brasil no Ranking de Escolaridade (`Schooling`) com relação aos demais países? "
      ]
    },
    {
      "cell_type": "code",
      "metadata": {
        "id": "2fheoxdEMNaQ",
        "colab": {
          "base_uri": "https://localhost:8080/",
          "height": 423
        },
        "outputId": "de22fc45-f4ea-435e-84c6-605e992f5677"
      },
      "source": [
        "# Seu código\n",
        "# Selecionando um dataframe com as colunas país e escolaridade\n",
        "em_desenv_escolaridade = WHO[['Country', 'Schooling']]\n",
        "\n",
        "# Excluindo linhas com dados ausentes\n",
        "em_desenv_escolaridade = em_desenv_escolaridade.dropna()\n",
        "\n",
        "# Reordenando os dados, mais escolarizados primeiro\n",
        "numero_paises = len(em_desenv_escolaridade)\n",
        "em_desenv_escolaridade = em_desenv_escolaridade.nlargest(numero_paises, 'Schooling')\n",
        "\n",
        "# Reindexando a série para que o índice também seja a posição do país \n",
        "posicao = np.array(range(1, numero_paises + 1))\n",
        "em_desenv_escolaridade.set_index(keys = posicao, inplace = True)\n",
        "display(em_desenv_escolaridade)"
      ],
      "execution_count": 99,
      "outputs": [
        {
          "output_type": "display_data",
          "data": {
            "text/html": [
              "<div>\n",
              "<style scoped>\n",
              "    .dataframe tbody tr th:only-of-type {\n",
              "        vertical-align: middle;\n",
              "    }\n",
              "\n",
              "    .dataframe tbody tr th {\n",
              "        vertical-align: top;\n",
              "    }\n",
              "\n",
              "    .dataframe thead th {\n",
              "        text-align: right;\n",
              "    }\n",
              "</style>\n",
              "<table border=\"1\" class=\"dataframe\">\n",
              "  <thead>\n",
              "    <tr style=\"text-align: right;\">\n",
              "      <th></th>\n",
              "      <th>Country</th>\n",
              "      <th>Schooling</th>\n",
              "    </tr>\n",
              "  </thead>\n",
              "  <tbody>\n",
              "    <tr>\n",
              "      <th>1</th>\n",
              "      <td>Australia</td>\n",
              "      <td>20.4</td>\n",
              "    </tr>\n",
              "    <tr>\n",
              "      <th>2</th>\n",
              "      <td>Denmark</td>\n",
              "      <td>19.2</td>\n",
              "    </tr>\n",
              "    <tr>\n",
              "      <th>3</th>\n",
              "      <td>New Zealand</td>\n",
              "      <td>19.2</td>\n",
              "    </tr>\n",
              "    <tr>\n",
              "      <th>4</th>\n",
              "      <td>Iceland</td>\n",
              "      <td>19.0</td>\n",
              "    </tr>\n",
              "    <tr>\n",
              "      <th>5</th>\n",
              "      <td>Ireland</td>\n",
              "      <td>18.6</td>\n",
              "    </tr>\n",
              "    <tr>\n",
              "      <th>...</th>\n",
              "      <td>...</td>\n",
              "      <td>...</td>\n",
              "    </tr>\n",
              "    <tr>\n",
              "      <th>169</th>\n",
              "      <td>Central African Republic</td>\n",
              "      <td>7.1</td>\n",
              "    </tr>\n",
              "    <tr>\n",
              "      <th>170</th>\n",
              "      <td>Djibouti</td>\n",
              "      <td>6.3</td>\n",
              "    </tr>\n",
              "    <tr>\n",
              "      <th>171</th>\n",
              "      <td>Niger</td>\n",
              "      <td>5.4</td>\n",
              "    </tr>\n",
              "    <tr>\n",
              "      <th>172</th>\n",
              "      <td>Eritrea</td>\n",
              "      <td>5.0</td>\n",
              "    </tr>\n",
              "    <tr>\n",
              "      <th>173</th>\n",
              "      <td>South Sudan</td>\n",
              "      <td>4.9</td>\n",
              "    </tr>\n",
              "  </tbody>\n",
              "</table>\n",
              "<p>173 rows × 2 columns</p>\n",
              "</div>"
            ],
            "text/plain": [
              "                      Country  Schooling\n",
              "1                   Australia       20.4\n",
              "2                     Denmark       19.2\n",
              "3                 New Zealand       19.2\n",
              "4                     Iceland       19.0\n",
              "5                     Ireland       18.6\n",
              "..                        ...        ...\n",
              "169  Central African Republic        7.1\n",
              "170                  Djibouti        6.3\n",
              "171                     Niger        5.4\n",
              "172                   Eritrea        5.0\n",
              "173               South Sudan        4.9\n",
              "\n",
              "[173 rows x 2 columns]"
            ]
          },
          "metadata": {}
        }
      ]
    },
    {
      "cell_type": "code",
      "metadata": {
        "colab": {
          "base_uri": "https://localhost:8080/",
          "height": 81
        },
        "id": "oMDJ_tjMoiUt",
        "outputId": "f3fa687b-8223-437a-f7a0-5695b216d9cb"
      },
      "source": [
        "# Encontrando o Brazil (com Z pois os dados estão em inglês)\n",
        "display(em_desenv_escolaridade[em_desenv_escolaridade['Country'] == 'Brazil'])"
      ],
      "execution_count": 100,
      "outputs": [
        {
          "output_type": "display_data",
          "data": {
            "text/html": [
              "<div>\n",
              "<style scoped>\n",
              "    .dataframe tbody tr th:only-of-type {\n",
              "        vertical-align: middle;\n",
              "    }\n",
              "\n",
              "    .dataframe tbody tr th {\n",
              "        vertical-align: top;\n",
              "    }\n",
              "\n",
              "    .dataframe thead th {\n",
              "        text-align: right;\n",
              "    }\n",
              "</style>\n",
              "<table border=\"1\" class=\"dataframe\">\n",
              "  <thead>\n",
              "    <tr style=\"text-align: right;\">\n",
              "      <th></th>\n",
              "      <th>Country</th>\n",
              "      <th>Schooling</th>\n",
              "    </tr>\n",
              "  </thead>\n",
              "  <tbody>\n",
              "    <tr>\n",
              "      <th>40</th>\n",
              "      <td>Brazil</td>\n",
              "      <td>15.2</td>\n",
              "    </tr>\n",
              "  </tbody>\n",
              "</table>\n",
              "</div>"
            ],
            "text/plain": [
              "   Country  Schooling\n",
              "40  Brazil       15.2"
            ]
          },
          "metadata": {}
        }
      ]
    },
    {
      "cell_type": "markdown",
      "metadata": {
        "id": "IAHH1PSMO_Cx"
      },
      "source": [
        "O Brasil está na 40ª posição em nível de escolaridade levando em consideração \n",
        "todos os países presentes nestes dados."
      ]
    }
  ]
}